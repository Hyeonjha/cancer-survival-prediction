{
 "cells": [
  {
   "cell_type": "markdown",
   "metadata": {},
   "source": [
    "# data_before_CV_addFeature.ipynb"
   ]
  },
  {
   "cell_type": "code",
   "execution_count": 1,
   "metadata": {},
   "outputs": [],
   "source": [
    "import numpy as np\n",
    "import pandas as pd\n",
    "from sklearn.model_selection import train_test_split, cross_val_score, KFold\n",
    "from sklearn.linear_model import LinearRegression\n",
    "from sklearn.tree import DecisionTreeRegressor\n",
    "from sklearn.ensemble import RandomForestRegressor, GradientBoostingRegressor\n",
    "from sklearn.svm import SVR\n",
    "from sklearn.neural_network import MLPRegressor\n",
    "from sklearn.neighbors import KNeighborsRegressor\n",
    "from sklearn.preprocessing import StandardScaler\n",
    "from sklearn.pipeline import make_pipeline\n",
    "from sklearn.metrics import mean_squared_error, r2_score, mean_absolute_error, make_scorer\n",
    "from functools import reduce\n",
    "\n"
   ]
  },
  {
   "cell_type": "markdown",
   "metadata": {},
   "source": [
    "# Data Loading"
   ]
  },
  {
   "cell_type": "code",
   "execution_count": 2,
   "metadata": {},
   "outputs": [],
   "source": [
    "mean_std_skew_df = pd.read_csv('./train/new_meanStdSkew.csv')\n",
    "median_kurtosis_entropy_area_df = pd.read_csv('./train/medianKurtosisEntropyArea.csv')\n",
    "feature1_df = pd.read_csv('./24_1_result_#4.csv')\n",
    "feature2_df = pd.read_csv('./24_2_result_#6.csv')\n",
    "feature3_df = pd.read_csv('./24_3_result_#4.csv')\n",
    "feature4_df = pd.read_csv('./24_4_result_#8.csv')\n",
    "feature5_df = pd.read_csv('./25_1_result_#4.csv')\n",
    "feature6_df = pd.read_csv('./26_1_result_#7.csv')\n",
    "feature7_df = pd.read_csv('./29_1_result#2+4.csv')\n",
    "feature8_df = pd.read_csv('./1_Apr_result_#4.csv')\n",
    "feature9_df = pd.read_csv('./2_Apr_result_#5.csv')\n",
    "feature10_df = pd.read_csv('./3_Apr_result_#9.csv')\n",
    "feature11_df = pd.read_csv('./5_Apr_result_#9.csv')"
   ]
  },
  {
   "cell_type": "markdown",
   "metadata": {},
   "source": [
    "# Data Merge & Split"
   ]
  },
  {
   "cell_type": "code",
   "execution_count": 3,
   "metadata": {},
   "outputs": [
    {
     "data": {
      "text/plain": [
       "((157, 10414), (68, 10414), (157,), (68,))"
      ]
     },
     "execution_count": 3,
     "metadata": {},
     "output_type": "execute_result"
    }
   ],
   "source": [
    "# First, merge two DataFrames\n",
    "temp_df = pd.merge(mean_std_skew_df, median_kurtosis_entropy_area_df, on='id')\n",
    "\n",
    "# Then, merge the result with the next DataFrame, and so on\n",
    "temp_df = pd.merge(temp_df, feature1_df, on='id')\n",
    "temp_df = pd.merge(temp_df, feature2_df, on='id')\n",
    "temp_df = pd.merge(temp_df, feature3_df, on='id')\n",
    "temp_df = pd.merge(temp_df, feature4_df, on='id')\n",
    "temp_df = pd.merge(temp_df, feature5_df, on='id')\n",
    "temp_df = pd.merge(temp_df, feature6_df, on='id')\n",
    "combined_features_df = pd.merge(temp_df, feature7_df, on='id')\n",
    "\n",
    "# Continue with your process\n",
    "train_df = pd.read_csv('./train/train_data.csv')\n",
    "merged_df = pd.merge(combined_features_df, train_df, on='id')\n",
    "X = merged_df.drop(columns=['id', 'OSmonth'])\n",
    "y = merged_df['OSmonth']\n",
    "\n",
    "# List of all DataFrames you want to merge\n",
    "dfs = [mean_std_skew_df, median_kurtosis_entropy_area_df, feature1_df, feature2_df, feature3_df, feature4_df, feature5_df, feature6_df, feature7_df, feature8_df, feature9_df, feature10_df, feature11_df]\n",
    "\n",
    "# Use reduce to apply pd.merge() to all items in the list\n",
    "combined_features_df = reduce(lambda left, right: pd.merge(left, right, on='id'), dfs)\n",
    "\n",
    "# Continue with your process\n",
    "train_df = pd.read_csv('./train/train_data.csv')\n",
    "merged_df = pd.merge(combined_features_df, train_df, on='id')\n",
    "X = merged_df.drop(columns=['id', 'OSmonth'])\n",
    "y = merged_df['OSmonth']\n",
    "\n",
    "# Split the data into training and testing sets\n",
    "X_train, X_test, y_train, y_test = train_test_split(X, y, test_size=0.3, random_state=42)\n",
    "\n",
    "X_train.shape, X_test.shape, y_train.shape, y_test.shape\n"
   ]
  },
  {
   "cell_type": "markdown",
   "metadata": {},
   "source": [
    "# Model Training"
   ]
  },
  {
   "cell_type": "code",
   "execution_count": 4,
   "metadata": {},
   "outputs": [
    {
     "name": "stderr",
     "output_type": "stream",
     "text": [
      "/Library/Frameworks/Python.framework/Versions/3.10/lib/python3.10/site-packages/sklearn/neural_network/_multilayer_perceptron.py:691: ConvergenceWarning: Stochastic Optimizer: Maximum iterations (100) reached and the optimization hasn't converged yet.\n",
      "  warnings.warn(\n",
      "/Library/Frameworks/Python.framework/Versions/3.10/lib/python3.10/site-packages/sklearn/neural_network/_multilayer_perceptron.py:691: ConvergenceWarning: Stochastic Optimizer: Maximum iterations (100) reached and the optimization hasn't converged yet.\n",
      "  warnings.warn(\n",
      "/Library/Frameworks/Python.framework/Versions/3.10/lib/python3.10/site-packages/sklearn/neural_network/_multilayer_perceptron.py:691: ConvergenceWarning: Stochastic Optimizer: Maximum iterations (100) reached and the optimization hasn't converged yet.\n",
      "  warnings.warn(\n",
      "/Library/Frameworks/Python.framework/Versions/3.10/lib/python3.10/site-packages/sklearn/neural_network/_multilayer_perceptron.py:691: ConvergenceWarning: Stochastic Optimizer: Maximum iterations (100) reached and the optimization hasn't converged yet.\n",
      "  warnings.warn(\n",
      "/Library/Frameworks/Python.framework/Versions/3.10/lib/python3.10/site-packages/sklearn/neural_network/_multilayer_perceptron.py:691: ConvergenceWarning: Stochastic Optimizer: Maximum iterations (100) reached and the optimization hasn't converged yet.\n",
      "  warnings.warn(\n",
      "/Library/Frameworks/Python.framework/Versions/3.10/lib/python3.10/site-packages/sklearn/neural_network/_multilayer_perceptron.py:691: ConvergenceWarning: Stochastic Optimizer: Maximum iterations (100) reached and the optimization hasn't converged yet.\n",
      "  warnings.warn(\n",
      "/Library/Frameworks/Python.framework/Versions/3.10/lib/python3.10/site-packages/sklearn/neural_network/_multilayer_perceptron.py:691: ConvergenceWarning: Stochastic Optimizer: Maximum iterations (100) reached and the optimization hasn't converged yet.\n",
      "  warnings.warn(\n",
      "/Library/Frameworks/Python.framework/Versions/3.10/lib/python3.10/site-packages/sklearn/neural_network/_multilayer_perceptron.py:691: ConvergenceWarning: Stochastic Optimizer: Maximum iterations (100) reached and the optimization hasn't converged yet.\n",
      "  warnings.warn(\n",
      "/Library/Frameworks/Python.framework/Versions/3.10/lib/python3.10/site-packages/sklearn/neural_network/_multilayer_perceptron.py:691: ConvergenceWarning: Stochastic Optimizer: Maximum iterations (100) reached and the optimization hasn't converged yet.\n",
      "  warnings.warn(\n",
      "/Library/Frameworks/Python.framework/Versions/3.10/lib/python3.10/site-packages/sklearn/neural_network/_multilayer_perceptron.py:691: ConvergenceWarning: Stochastic Optimizer: Maximum iterations (100) reached and the optimization hasn't converged yet.\n",
      "  warnings.warn(\n",
      "/Library/Frameworks/Python.framework/Versions/3.10/lib/python3.10/site-packages/sklearn/neural_network/_multilayer_perceptron.py:691: ConvergenceWarning: Stochastic Optimizer: Maximum iterations (100) reached and the optimization hasn't converged yet.\n",
      "  warnings.warn(\n",
      "/Library/Frameworks/Python.framework/Versions/3.10/lib/python3.10/site-packages/sklearn/neural_network/_multilayer_perceptron.py:691: ConvergenceWarning: Stochastic Optimizer: Maximum iterations (100) reached and the optimization hasn't converged yet.\n",
      "  warnings.warn(\n",
      "/Library/Frameworks/Python.framework/Versions/3.10/lib/python3.10/site-packages/sklearn/neural_network/_multilayer_perceptron.py:691: ConvergenceWarning: Stochastic Optimizer: Maximum iterations (100) reached and the optimization hasn't converged yet.\n",
      "  warnings.warn(\n",
      "/Library/Frameworks/Python.framework/Versions/3.10/lib/python3.10/site-packages/sklearn/neural_network/_multilayer_perceptron.py:691: ConvergenceWarning: Stochastic Optimizer: Maximum iterations (100) reached and the optimization hasn't converged yet.\n",
      "  warnings.warn(\n",
      "/Library/Frameworks/Python.framework/Versions/3.10/lib/python3.10/site-packages/sklearn/neural_network/_multilayer_perceptron.py:691: ConvergenceWarning: Stochastic Optimizer: Maximum iterations (100) reached and the optimization hasn't converged yet.\n",
      "  warnings.warn(\n"
     ]
    },
    {
     "name": "stdout",
     "output_type": "stream",
     "text": [
      "Model performance using Cross-Validation:\n",
      "Linear Regression - MAE: 379.80248312113014, MSE: 2990500.0453650295, R2: -1074.1584331502727\n",
      "Decision Tree - MAE: 51.36, MSE: 4385.786666666667, R2: -0.8715320978971747\n",
      "Random Forest - MAE: 37.09768888888889, MSE: 2204.369411555556, R2: 0.05212561592204936\n",
      "Gradient Boosting - MAE: 37.36212537315545, MSE: 2252.5402828526007, R2: 0.03176539471460453\n",
      "SVM - MAE: 37.87179730700804, MSE: 2376.387460705425, R2: -0.01173371446054845\n",
      "MLP - MAE: 4616.594382103597, MSE: 851274380.8464074, R2: -437461.13782417\n",
      "KNN - MAE: 42.254222222222225, MSE: 2902.632533333333, R2: -0.25758137945403436\n"
     ]
    }
   ],
   "source": [
    "# Initialize models\n",
    "models = {\n",
    "    \"Linear Regression\": LinearRegression(),\n",
    "    \"Decision Tree\": DecisionTreeRegressor(random_state=42),\n",
    "    \"Random Forest\": RandomForestRegressor(random_state=42),\n",
    "    \"Gradient Boosting\": GradientBoostingRegressor(n_estimators=100, random_state=42),\n",
    "    \"SVM\": make_pipeline(StandardScaler(), SVR(max_iter=300)),\n",
    "    \"MLP\": make_pipeline(StandardScaler(), MLPRegressor(max_iter=100,random_state=42)),\n",
    "    \"KNN\": KNeighborsRegressor()\n",
    "}\n",
    "\n",
    "kf = KFold(n_splits=5, shuffle=True, random_state=42)\n",
    "\n",
    "# Perform cross-validation and gather results\n",
    "cv_results = {model_name: {\"MAE\": [], \"MSE\": [], \"R2\": []} for model_name in models.keys()}\n",
    "\n",
    "for name, model in models.items():\n",
    "    # Cross-validation for MAE\n",
    "    cv_score_mae = cross_val_score(model, X, y, cv=kf, scoring='neg_mean_absolute_error')\n",
    "    cv_results[name][\"MAE\"] = -cv_score_mae.mean()\n",
    "    \n",
    "    # Cross-validation for MSE\n",
    "    cv_score_mse = cross_val_score(model, X, y, cv=kf, scoring='neg_mean_squared_error')\n",
    "    cv_results[name][\"MSE\"] = -cv_score_mse.mean()\n",
    "    \n",
    "    # Cross-validation for R2\n",
    "    cv_score_r2 = cross_val_score(model, X, y, cv=kf, scoring='r2')\n",
    "    cv_results[name][\"R2\"] = cv_score_r2.mean()\n",
    "\n",
    "# Printing cross-validation results\n",
    "print(\"Model performance using Cross-Validation:\")\n",
    "for model, scores in cv_results.items():\n",
    "    print(f\"{model} - MAE: {scores['MAE']}, MSE: {scores['MSE']}, R2: {scores['R2']}\")"
   ]
  }
 ],
 "metadata": {
  "kernelspec": {
   "display_name": "Python 3",
   "language": "python",
   "name": "python3"
  },
  "language_info": {
   "codemirror_mode": {
    "name": "ipython",
    "version": 3
   },
   "file_extension": ".py",
   "mimetype": "text/x-python",
   "name": "python",
   "nbconvert_exporter": "python",
   "pygments_lexer": "ipython3",
   "version": "3.10.9"
  }
 },
 "nbformat": 4,
 "nbformat_minor": 2
}
